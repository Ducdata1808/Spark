{
 "cells": [
  {
   "cell_type": "code",
   "execution_count": 1,
   "id": "90056958-1ee2-4da0-8bd5-778a0d15b0dc",
   "metadata": {
    "tags": []
   },
   "outputs": [],
   "source": [
    "from pyspark.sql import SparkSession"
   ]
  },
  {
   "cell_type": "code",
   "execution_count": 2,
   "id": "cc52ff66-55fe-4344-b384-b4e94e0b10ca",
   "metadata": {
    "tags": []
   },
   "outputs": [],
   "source": [
    "import logging"
   ]
  },
  {
   "cell_type": "code",
   "execution_count": 3,
   "id": "968d980b-14ed-42e6-a4af-07d13a8662a1",
   "metadata": {
    "tags": []
   },
   "outputs": [],
   "source": [
    "logging.basicConfig(\n",
    "    level = logging.INFO,\n",
    "    format = '%(asctime)s - %(name)s - %(levelname)s - %(message)s',\n",
    "    filename = 'error.log',\n",
    "    filemode = 'a'\n",
    ")\n",
    "logger = logging.getLogger(__name__)\n"
   ]
  },
  {
   "cell_type": "code",
   "execution_count": 4,
   "id": "73f98e4f-8aac-4b13-924f-2a73384bd25b",
   "metadata": {
    "tags": []
   },
   "outputs": [
    {
     "name": "stderr",
     "output_type": "stream",
     "text": [
      "25/06/24 07:48:03 WARN SparkSession: Using an existing Spark session; only runtime SQL configurations will take effect.\n"
     ]
    }
   ],
   "source": [
    "try:\n",
    "    spark = SparkSession.builder.appName(\"read_data\").getOrCreate()\n",
    "    logger.info(\"Completely initialize SparkSesion\")\n",
    "except Exception as e:\n",
    "    logger.error(f\"an error occurs when initialize SparkSession: {e}\")\n",
    "    exit(1)\n",
    "    "
   ]
  },
  {
   "cell_type": "code",
   "execution_count": 5,
   "id": "6aef37a4-a380-4eda-8309-a7d38e91a899",
   "metadata": {
    "tags": []
   },
   "outputs": [],
   "source": [
    "data = [\"A\", \"B\", \"C\", \"C\", \"A\"]\n",
    "logger.info(f\"source data was craeted: {data}\")"
   ]
  },
  {
   "cell_type": "code",
   "execution_count": 6,
   "id": "28c65f6c-fcc4-4776-9497-7f3f6e2cb66f",
   "metadata": {
    "tags": []
   },
   "outputs": [],
   "source": [
    "sc = spark.sparkContext"
   ]
  },
  {
   "cell_type": "code",
   "execution_count": 7,
   "id": "e2b9bc90-972c-4b4e-af04-56fa30922084",
   "metadata": {
    "tags": []
   },
   "outputs": [
    {
     "name": "stdout",
     "output_type": "stream",
     "text": [
      "<SparkContext master=yarn appName=PySparkShell>\n"
     ]
    }
   ],
   "source": [
    "print(sc)"
   ]
  },
  {
   "cell_type": "code",
   "execution_count": 7,
   "id": "c10cdc06-7dde-4a8f-ad72-6e985350bab5",
   "metadata": {
    "tags": []
   },
   "outputs": [],
   "source": [
    "# read data from memory\n",
    "try:\n",
    "    rdd = sc.paralellize(data)\n",
    "    logger.info(f\"rdd was craeted from data with {rdd.getNumPartitions()} partitions\")\n",
    "    rdd.collect()\n",
    "except Exception as e:\n",
    "    logger.error(f\"an error occur when create RDD: {e}\")\n",
    "    exit(1)"
   ]
  },
  {
   "cell_type": "code",
   "execution_count": 31,
   "id": "e5345778-d2e1-4fef-8d85-d961cca61a69",
   "metadata": {
    "tags": []
   },
   "outputs": [],
   "source": [
    "sc.stop()"
   ]
  },
  {
   "cell_type": "code",
   "execution_count": 4,
   "id": "f88ab7e0-9b9c-4e69-a8c2-5804b13c4ee6",
   "metadata": {},
   "outputs": [],
   "source": []
  },
  {
   "cell_type": "code",
   "execution_count": null,
   "id": "b43c98fc-08d9-4514-ac66-f38247cc1ed5",
   "metadata": {},
   "outputs": [],
   "source": []
  }
 ],
 "metadata": {
  "kernelspec": {
   "display_name": "PySpark",
   "language": "python",
   "name": "pyspark"
  },
  "language_info": {
   "codemirror_mode": {
    "name": "ipython",
    "version": 3
   },
   "file_extension": ".py",
   "mimetype": "text/x-python",
   "name": "python",
   "nbconvert_exporter": "python",
   "pygments_lexer": "ipython3",
   "version": "3.11.8"
  }
 },
 "nbformat": 4,
 "nbformat_minor": 5
}
